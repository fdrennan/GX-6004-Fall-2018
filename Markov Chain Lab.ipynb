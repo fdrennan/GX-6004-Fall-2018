{
 "cells": [
  {
   "cell_type": "markdown",
   "metadata": {},
   "source": [
    "### Markov Chain Lab\n",
    "\n",
    "Consider the Subway rat above.  Add two tracks to the right of Track C, labeling them Track D and Track E.  In this situation, treat Track A as an absorbing state.  If the rat is on any track other than Tracks A or E, it has probability 0.5 of remaining on that track, probability 0.25 of moving left, and probability 0.25 of moving right.  For Track E, assume probability 0.5 of remaining on that track, and probability 0.5 of moving left.  \n",
    "\n",
    "Write out the matrix of Markov transition probabilities.  Iterate this matrix forward as many times as is necessary for you to determine empirically its limit.  Based on this limit, what can you say about the evolution of the system if the rat begins on Track C?  How about Track D?  Is there a general conclusion you can draw?"
   ]
  },
  {
   "cell_type": "code",
   "execution_count": 1,
   "metadata": {},
   "outputs": [
    {
     "name": "stderr",
     "output_type": "stream",
     "text": [
      "/Users/timothysavage/anaconda/lib/python3.5/site-packages/statsmodels/compat/pandas.py:56: FutureWarning: The pandas.core.datetools module is deprecated and will be removed in a future version. Please use the pandas.tseries module instead.\n",
      "  from pandas.core import datetools\n"
     ]
    }
   ],
   "source": [
    "%matplotlib inline\n",
    "import warnings\n",
    "import numpy as np\n",
    "import pandas as pd\n",
    "import pandas_datareader.data as web\n",
    "import datetime as dt\n",
    "import fix_yahoo_finance\n",
    "from numpy import random\n",
    "from scipy import stats\n",
    "import matplotlib.pyplot as plt\n",
    "import seaborn as sns\n",
    "import statsmodels as sm\n",
    "import statsmodels.formula.api as smf\n",
    "import statsmodels.api as sma\n",
    "import patsy\n",
    "from statsmodels.graphics.api import abline_plot\n",
    "import numpy.linalg as linalg\n",
    "from mpl_toolkits.mplot3d import Axes3D\n",
    "from matplotlib.colors import ListedColormap\n",
    "from sklearn import neighbors, datasets\n",
    "from tabulate import tabulate\n",
    "warnings.simplefilter('ignore')\n",
    "sns.set(context='notebook', style='whitegrid', palette='deep', font='sans-serif', font_scale=1, rc=None)"
   ]
  },
  {
   "cell_type": "code",
   "execution_count": 2,
   "metadata": {},
   "outputs": [
    {
     "name": "stdout",
     "output_type": "stream",
     "text": [
      "A Rat in a NYC Subway Tunnel\n",
      "╒═════════╤═════════╤═════════╤═════════╤═════════╤═════════╕\n",
      "│         │ Track A │ Track B │ Track C │ Track D │ Track E │\n",
      "├─────────┼─────────┼─────────┼─────────┼─────────┼─────────┤\n",
      "│ Track A │ 1       │ 0       │ 0       │ 0       │ 0       │\n",
      "├─────────┼─────────┼─────────┼─────────┼─────────┼─────────┤\n",
      "│ Track B │ 1/4     │ 1/2     │ 1/4     │ 0       │ 0       │\n",
      "├─────────┼─────────┼─────────┼─────────┼─────────┼─────────┤\n",
      "│ Track C │ 0       │ 1/4     │ 1/2     │ 1/4     │ 0       │\n",
      "├─────────┼─────────┼─────────┼─────────┼─────────┼─────────┤\n",
      "│ Track D │ 0       │ 0       │ 1/4     │ 1/2     │ 1/4     │\n",
      "├─────────┼─────────┼─────────┼─────────┼─────────┼─────────┤\n",
      "│ Track E │ 0       │ 0       │ 0       │ 1/2     │ 1/2     │\n",
      "╘═════════╧═════════╧═════════╧═════════╧═════════╧═════════╛\n",
      "\n",
      "As an Numpy matrix\n",
      "[[ 1.    0.    0.    0.    0.  ]\n",
      " [ 0.25  0.5   0.25  0.    0.  ]\n",
      " [ 0.    0.25  0.5   0.25  0.  ]\n",
      " [ 0.    0.    0.25  0.5   0.25]\n",
      " [ 0.    0.    0.    0.5   0.5 ]]\n"
     ]
    }
   ],
   "source": [
    "# Let's apply this to something non-deterministic using a NYC Subway rat.\n",
    "# If on Track A, Pr(stays) = 1/2 and Pr(moves to B) = 1/2\n",
    "# If on Track B, Pr(stays) = 1/2, Pr(move to A) = 1/4, and Pr(moves to C) = 1/4\n",
    "# If on Track C, Pr(stays) = 1/2 and Pr(moves to C) = 1/2\n",
    "\n",
    "print(\"A Rat in a NYC Subway Tunnel\")\n",
    "table = [[\" \", \"Track A\", \"Track B\", \"Track C\", \"Track D\", \"Track E\"],\n",
    "        [\"Track A\", \"1\", \"0\", \"0\", \"0\", \"0\"],\n",
    "        [\"Track B\", \"1/4\", \"1/2\", \"1/4\", \"0\", \"0\"],\n",
    "        [\"Track C\", \"0\", \"1/4\", \"1/2\", \"1/4\", \"0\"],\n",
    "        [\"Track D\", \"0\", \"0\", \"1/4\", \"1/2\", \"1/4\"],\n",
    "        [\"Track E\", \"0\", \"0\", \"0\", \"1/2\", \"1/2\"]]\n",
    "print(tabulate(table, tablefmt=\"fancy_grid\", numalign = \"center\"))\n",
    "print()\n",
    "\n",
    "MT = np.matrix('1 0 0 0 0; 0.25 0.5 0.25 0 0; 0 0.25 0.5 0.25 0; 0 0 0.25 0.5 0.25; 0 0 0 0.5 0.5')\n",
    "print(\"As an Numpy matrix\")\n",
    "print(MT)"
   ]
  },
  {
   "cell_type": "code",
   "execution_count": 3,
   "metadata": {},
   "outputs": [
    {
     "name": "stdout",
     "output_type": "stream",
     "text": [
      "[[ 1.  0.  0.  0.  0.]]\n"
     ]
    }
   ],
   "source": [
    "rat = np.matrix('0 0 1 0 0')\n",
    "print(rat * np.linalg.matrix_power(MT, 100000))"
   ]
  },
  {
   "cell_type": "markdown",
   "metadata": {},
   "source": [
    "### ARMA Lab Using Amazon\n",
    "\n",
    "Grab Amazon stock data and calculate returns and volatility, the square of daily returns, $r_t^2$, a value that is non-negative.  Next, generate a measure that is the square root of the square of daily returns, which is also non-negative.  This is typically thought of as measure of the volatility of returns.  Generate an autocorrelation graph for volatility.  Is volatility autocorrelated?  "
   ]
  },
  {
   "cell_type": "code",
   "execution_count": 4,
   "metadata": {},
   "outputs": [
    {
     "name": "stdout",
     "output_type": "stream",
     "text": [
      "[*********************100%***********************]  1 of 1 downloaded"
     ]
    },
    {
     "data": {
      "text/plain": [
       "<matplotlib.figure.Figure at 0x107de9780>"
      ]
     },
     "metadata": {},
     "output_type": "display_data"
    },
    {
     "data": {
      "image/png": "[encoded data removed]",
      "text/plain": [
       "<matplotlib.figure.Figure at 0x107de9438>"
      ]
     },
     "metadata": {},
     "output_type": "display_data"
    }
   ],
   "source": [
    "# Use Amazon\n",
    "\n",
    "start, end = \"2006-01-01\", \"2015-12-31\"\n",
    "amzn = web.get_data_yahoo('amzn', start=start, end=end)['Adj Close']\n",
    "amzn_returns = np.log(amzn / amzn.shift(1))\n",
    "amzn_returns = amzn_returns.dropna()\n",
    "\n",
    "fig = plt.figure(figsize=(8,6))\n",
    "fig = sma.graphics.tsa.plot_acf(amzn_returns, lags=5)"
   ]
  },
  {
   "cell_type": "code",
   "execution_count": 5,
   "metadata": {},
   "outputs": [
    {
     "name": "stdout",
     "output_type": "stream",
     "text": [
      "Date\n",
      "2006-01-04    0.006960\n",
      "2006-01-05    0.008430\n",
      "2006-01-06    0.004606\n",
      "2006-01-09    0.016641\n",
      "2006-01-10    0.030845\n",
      "Name: Adj Close, dtype: float64\n"
     ]
    },
    {
     "data": {
      "text/plain": [
       "<matplotlib.figure.Figure at 0x114440320>"
      ]
     },
     "metadata": {},
     "output_type": "display_data"
    },
    {
     "data": {
      "image/png": "[encoded data removed]",
      "text/plain": [
       "<matplotlib.figure.Figure at 0x1144404a8>"
      ]
     },
     "metadata": {},
     "output_type": "display_data"
    }
   ],
   "source": [
    "vol = np.sqrt(amzn_returns ** 2)\n",
    "print(vol.head())\n",
    "fig = plt.figure(figsize=(8,6))\n",
    "fig = sma.graphics.tsa.plot_acf(vol, lags=5)"
   ]
  }
 ],
 "metadata": {
  "kernelspec": {
   "display_name": "Python [default]",
   "language": "python",
   "name": "python3"
  },
  "language_info": {
   "codemirror_mode": {
    "name": "ipython",
    "version": 3
   },
   "file_extension": ".py",
   "mimetype": "text/x-python",
   "name": "python",
   "nbconvert_exporter": "python",
   "pygments_lexer": "ipython3",
   "version": "3.5.5"
  }
 },
 "nbformat": 4,
 "nbformat_minor": 1
}
